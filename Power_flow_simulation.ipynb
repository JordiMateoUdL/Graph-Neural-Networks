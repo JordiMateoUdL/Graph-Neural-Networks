{
 "cells": [
  {
   "cell_type": "markdown",
   "metadata": {},
   "source": [
    "### 9-bus test system\n",
    " Definition of the initial 9-bus test system (originally presented in Paul M. Anderson; A. A. Fouad, \"Power System Control and Stability\" , IEEE, 2003, pp.i-xiv, doi: 10.1109/9780470545577.fmatter.)"
   ]
  },
  {
   "cell_type": "markdown",
   "metadata": {},
   "source": [
    "### First time this should be run in terminal: \n",
    "Install libraries (if  you use uv add dependencies are added to pyproject.toml automatically, if you use uv pip install you need to add manually)"
   ]
  },
  {
   "cell_type": "code",
   "execution_count": null,
   "metadata": {
    "vscode": {
     "languageId": "shellscript"
    }
   },
   "outputs": [],
   "source": [
    "# Create venv\n",
    "uv venv\n",
    "# Activate it\n",
    ".\\.venv\\Scripts\\activate\n",
    "# Install packages in the venv\n",
    "uv add highspy pyscipopt matplotlib pandas numpy cartopy\n",
    "uv add jupyter\n",
    "uv add pypsa"
   ]
  },
  {
   "cell_type": "markdown",
   "metadata": {},
   "source": [
    "Comments:\n",
    "I ran this in Visual Studio code and had to make two changes to default set up:\n",
    "1) (rookie mistake): I had all the repos in a one-drive folder, which caused some issues, so i moved everything to a folder not in one-drive\n",
    "2) Visual studio code has powershell as default terminal (at least in my setup) which was not permitted to activate the vevn. Just changing to command prompt solved this..."
   ]
  },
  {
   "cell_type": "markdown",
   "metadata": {},
   "source": [
    "### Importing and defining models"
   ]
  },
  {
   "cell_type": "code",
   "execution_count": 1,
   "metadata": {},
   "outputs": [],
   "source": [
    "import pypsa\n",
    "import numpy as np\n",
    "import matplotlib.pyplot as plt\n",
    "import cartopy.crs as ccrs\n",
    "import pandas as pd\n"
   ]
  },
  {
   "cell_type": "code",
   "execution_count": 105,
   "metadata": {},
   "outputs": [],
   "source": [
    "#to plot the network this is called within the create_9_bus_network if plot=True\n",
    "#using first snapshot values \n",
    "def plot_network(n):\n",
    "    plt.figure(figsize=(12, 8))\n",
    "    # Plot base network\n",
    "    n.plot(\n",
    "        bus_sizes=0.01,          \n",
    "        line_widths=2,          \n",
    "        bus_colors='red',       \n",
    "        line_colors='blue',     \n",
    "        title=\"IEEE 9-bus System\",\n",
    "        margin=0.15,            \n",
    "        geomap=False           \n",
    "    )\n",
    "\n",
    "    # Add bus labels with nominal voltage\n",
    "    for bus in n.buses.index:\n",
    "        x = n.buses.x[bus]\n",
    "        y = n.buses.y[bus]\n",
    "        v_nom = n.buses.v_nom[bus]\n",
    "        bus_type = n.buses.type[bus]\n",
    "        plt.annotate(\n",
    "            f\"Bus {bus}\\n{v_nom}kV\\n{bus_type}\",\n",
    "            xy=(x, y),\n",
    "            xytext=(10, 20),\n",
    "            textcoords='offset points',\n",
    "            bbox=dict(facecolor='white', alpha=0.7),\n",
    "            fontsize=8\n",
    "        )\n",
    "\n",
    "    # Add generator labels with setpoints\n",
    "    for gen in n.generators.index:\n",
    "        bus = n.generators.bus[gen]\n",
    "        x = n.buses.x[bus]\n",
    "        y = n.buses.y[bus]\n",
    "        # Access first snapshot of p_set time series\n",
    "        p_set = n.generators_t.p_set[gen].iloc[0]\n",
    "        p_nom = n.generators.p_nom[gen]\n",
    "        plt.annotate(\n",
    "            f\"Gen {gen}\\nP={p_set:.1f}MW\\nPmax={p_nom:.1f}MW\",\n",
    "            xy=(x, y),\n",
    "            xytext=(-75, -30),\n",
    "            textcoords='offset points',\n",
    "            color='magenta',\n",
    "            bbox=dict(facecolor='white', alpha=0.7),\n",
    "            fontsize=8\n",
    "        )\n",
    "\n",
    "    # Add load labels with setpoints\n",
    "    for load in n.loads.index:\n",
    "        bus = n.loads.bus[load]\n",
    "        x = n.buses.x[bus]\n",
    "        y = n.buses.y[bus]\n",
    "        p = n.loads_t.p_set.loc[n.snapshots[0],load]\n",
    "        q = n.loads_t.q_set.loc[n.snapshots[0],load]\n",
    "        plt.annotate(\n",
    "            f\"Load {load}\\nP={p:.1f}MW\\nQ={q:.1f}MVAr\",\n",
    "            xy=(x, y),\n",
    "            xytext=(-60, -30),\n",
    "            textcoords='offset points',\n",
    "            color='brown',\n",
    "            bbox=dict(facecolor='white', alpha=0.7),\n",
    "            fontsize=8\n",
    "        )\n",
    "\n",
    "    plt.grid(True)\n",
    "    plt.axis('equal')\n",
    "    \n",
    "    # Add legend\n",
    "    from matplotlib.lines import Line2D\n",
    "    legend_elements = [\n",
    "        Line2D([0], [0], marker='o', color='red', label='Buses', \n",
    "               markersize=8, linestyle='None'),\n",
    "        Line2D([0], [0], color='blue', label='Lines/Transformers', \n",
    "               linewidth=2),\n",
    "        Line2D([0], [0], marker='s', color='magenta', label='Generators',\n",
    "               markersize=8, linestyle='None'),\n",
    "        Line2D([0], [0], marker='s', color='brown', label='Loads',\n",
    "               markersize=8, linestyle='None')\n",
    "    ]\n",
    "    plt.legend(handles=legend_elements, loc='lower right')\n",
    "    \n",
    "    plt.show()\n"
   ]
  },
  {
   "attachments": {
    "image-2.png": {
     "image/png": "[encoded data removed]"
    }
   },
   "cell_type": "markdown",
   "metadata": {},
   "source": [
    "![image-2.png](attachment:image-2.png)"
   ]
  },
  {
   "cell_type": "code",
   "execution_count": 112,
   "metadata": {},
   "outputs": [],
   "source": [
    "# In the official version generators are connected to bus 1, 2 and 3. \n",
    "# This is used as default, but can be changed by specifying bus numbers for each gen.\n",
    "\n",
    "def create_9_bus_network(gen_bus1=1, gen_bus2=2, gen_bus3=3, plot=False):\n",
    "    network = pypsa.Network()\n",
    "    \n",
    "    # Define five snapshots\n",
    "    snapshots = pd.date_range(\"2025-01-01 00:00\", periods=5, freq=\"h\")\n",
    "    network.set_snapshots(snapshots)\n",
    "    \n",
    "    # Set base MVA\n",
    "    network.sbase = 100.0\n",
    "    \n",
    "    # IEEE 9-bus layout coordinates\n",
    "    bus_coordinates = {\n",
    "        1: (0, 0),      # Generator 1 (slack)\n",
    "        2: (2, 3),      # Generator 2\n",
    "        3: (-2, 3),      # Generator 3\n",
    "        4: (0, 1),     # Load bus\n",
    "        5: (-1, 2),     # Load bus\n",
    "        6: (-1, 3),    # Load bus\n",
    "        7: (0, 3),      # Load bus\n",
    "        8: (1, 3),      # Load bus\n",
    "        9: (1, 2)      # Load bus\n",
    "    }\n",
    "    \n",
    "    # Add buses with official IEEE data   \n",
    "    for i in range(1, 10):\n",
    "        bus_data = {\n",
    "            \"x\": bus_coordinates[i][0],\n",
    "            \"y\": bus_coordinates[i][1],\n",
    "            \"v_nom\": 230, #if i in [1,2,3] else 230,\n",
    "            \"v_mag_pu_set\": 1.04 if i == gen_bus1 else 1.025 if i in [gen_bus2,gen_bus3] else 1.0,\n",
    "            \"v_mag_pu_min\": 0.9,\n",
    "            \"v_mag_pu_max\": 1.1,\n",
    "            \"type\": \"Slack\" if i == gen_bus1 else \"PV\" if i in [gen_bus2,gen_bus3] else \"PQ\"\n",
    "            }\n",
    "        network.add(\"Bus\", f\"Bus {i}\", **bus_data)\n",
    "        \n",
    "        # Add loads with oscillating patterns\n",
    "        if i in [5, 7, 9]:\n",
    "            # Create base loads to generate varying load patterns\n",
    "            base_p = {5: 90, 7: 100, 9: 125}[i]\n",
    "            base_q = {5: 30, 7: 35, 9: 50}[i]\n",
    "            variation = 0.1  # 10% variation\n",
    "            #oscilation pattern based on node number\n",
    "            patterns = {5:np.array([1,0,1,0,-1]),\n",
    "                        7:np.array([0,1,1,-1,-1]),\n",
    "                        9: np.array([0,0,1,1,-1])}\n",
    "            # load is set as base plus/minus a variation of \n",
    "            load_p_set = base_p * (1 + variation * patterns[i])  # Oscillating pattern\n",
    "            load_q_set = base_q * (1 + variation * patterns[i])  # Oscillating pattern\n",
    "            \n",
    "            network.add(\"Load\", f\"Load {i}\", \n",
    "                bus=f\"Bus {i}\",\n",
    "                p_set=pd.Series(load_p_set, index=snapshots),\n",
    "                q_set=pd.Series(load_q_set, index=snapshots))\n",
    "    \n",
    "    ## Add Generators with official IEEE data\n",
    "    gen_data = [\n",
    "    {\"bus\": f\"Bus {gen_bus1}\", \"p_nom\": 247.5, \"p_min_pu\": 10/247.5, \"p_set\": pd.Series([0]*5, index=snapshots)},\n",
    "    {\"bus\": f\"Bus {gen_bus2}\", \"p_nom\": 192.0, \"p_min_pu\": 10/192.0, \"p_set\": pd.Series([163]*5, index=snapshots)},\n",
    "    {\"bus\": f\"Bus {gen_bus3}\", \"p_nom\": 128.0, \"p_min_pu\": 10/128.0, \"p_set\": pd.Series([85]*5, index=snapshots)}\n",
    "    ]\n",
    "    \n",
    "    for i, gen in enumerate(gen_data):\n",
    "        network.add(\"Generator\", f\"Gen {i+1}\", **gen)\n",
    "    \n",
    "    ## Add Lines and Transformers with official IEEE data\n",
    "    branch_data = [\n",
    "        # [from_bus, to_bus, r, x, b, s_nom, tap_ratio]\n",
    "        [1, 4, 0.0000, 0.0576, 0.0000, 250, 1.0],#345/230],  # Transformer 1 (345/230 kV)\n",
    "        [4, 5, 0.0170, 0.0920, 0.1580, 250, 1.0],      # Line\n",
    "        [5, 6, 0.0390, 0.1700, 0.3580, 150, 1.0],      # Line\n",
    "        [3, 6, 0.0000, 0.0586, 0.0000, 300, 1.0],#345/230],  # Transformer 2 (345/230 kV)\n",
    "        [6, 7, 0.0119, 0.1008, 0.2090, 150, 1.0],      # Line\n",
    "        [7, 8, 0.0085, 0.0720, 0.1490, 250, 1.0],      # Line\n",
    "        [8, 2, 0.0000, 0.0625, 0.0000, 250, 1.0],#345/230],  # Transformer 3 (345/230 kV)\n",
    "        [8, 9, 0.0320, 0.1610, 0.3060, 250, 1.0],      # Line\n",
    "        [9, 4, 0.0100, 0.0850, 0.1760, 250, 1.0]       # Line\n",
    "        ]\n",
    "    \n",
    "    for i, branch in enumerate(branch_data):\n",
    "        f_bus, t_bus, r, x, b, rate, tap = branch\n",
    "        if tap != 1.0:  # Tap not equal to 1 indicates a transformer\n",
    "            network.add(\"Transformer\", f\"Transformer {i+1}\",\n",
    "                    bus0=f\"Bus {f_bus}\",\n",
    "                    bus1=f\"Bus {t_bus}\",\n",
    "                    r=r,\n",
    "                    x=x,\n",
    "                    b=b,\n",
    "                    s_nom=rate,\n",
    "                    tap_ratio=tap)\n",
    "        else:  # Tap equal to 1 indicates normal line (no transformer)\n",
    "            network.add(\"Line\", f\"Line {i+1}\",\n",
    "                    bus0=f\"Bus {f_bus}\",\n",
    "                    bus1=f\"Bus {t_bus}\",\n",
    "                    r=r,\n",
    "                    x=x,\n",
    "                    b=b,\n",
    "                    s_nom=rate)\n",
    "    \n",
    "    if plot:\n",
    "        plot_network(network)\n",
    "    return network"
   ]
  },
  {
   "cell_type": "markdown",
   "metadata": {},
   "source": [
    "### Running power flow simulations\n"
   ]
  },
  {
   "cell_type": "code",
   "execution_count": 113,
   "metadata": {},
   "outputs": [
    {
     "data": {
      "image/png": "[encoded data removed]",
      "text/plain": [
       "<Figure size 1200x800 with 1 Axes>"
      ]
     },
     "metadata": {},
     "output_type": "display_data"
    }
   ],
   "source": [
    "n = create_9_bus_network(plot=True) # create the network with some parameters"
   ]
  },
  {
   "cell_type": "code",
   "execution_count": null,
   "metadata": {},
   "outputs": [],
   "source": [
    "ne"
   ]
  },
  {
   "cell_type": "code",
   "execution_count": 123,
   "metadata": {},
   "outputs": [],
   "source": [
    "def model_results(n, print_results=False):\n",
    "    n.lpf()\n",
    "    n.pf(use_seed=True)\n",
    "    # Create DataFrame with bus results for all snapshots\n",
    "    results_df = pd.DataFrame(\n",
    "        index=n.snapshots,\n",
    "        columns=pd.MultiIndex.from_product([\n",
    "            n.buses.index,\n",
    "            ['P (MW)', 'Q (MVAr)', 'V (pu)', 'Angle (deg)']\n",
    "        ])\n",
    "    )\n",
    "\n",
    "    # Fill results for each snapshot\n",
    "    for t in n.snapshots:\n",
    "        for bus in n.buses.index:\n",
    "            results_df.loc[t, (bus, 'P (MW)')] = n.buses_t.p.loc[t, bus]\n",
    "            results_df.loc[t, (bus, 'Q (MVAr)')] = n.buses_t.q.loc[t, bus]\n",
    "            results_df.loc[t, (bus, 'V (pu)')] = n.buses_t.v_mag_pu.loc[t, bus]\n",
    "            results_df.loc[t, (bus, 'Angle (deg)')] = n.buses_t.v_ang.loc[t, bus]\n",
    "\n",
    "    if print_results:\n",
    "        print(\"\\nBus Results:\") \n",
    "        print(results_df)\n",
    "        #for s in results_df.index:\n",
    "        #    print(results_df.loc[s])\n",
    "\n",
    "    return results_df\n"
   ]
  },
  {
   "cell_type": "code",
   "execution_count": 124,
   "metadata": {},
   "outputs": [
    {
     "name": "stderr",
     "output_type": "stream",
     "text": [
      "INFO:pypsa.pf:Performing linear load-flow on AC sub-network SubNetwork 0 for snapshot(s) DatetimeIndex(['2025-01-01 00:00:00', '2025-01-01 01:00:00',\n",
      "               '2025-01-01 02:00:00', '2025-01-01 03:00:00',\n",
      "               '2025-01-01 04:00:00'],\n",
      "              dtype='datetime64[ns]', name='snapshot', freq='h')\n",
      "INFO:pypsa.pf:Performing non-linear load-flow on AC sub-network SubNetwork 0 for snapshots DatetimeIndex(['2025-01-01 00:00:00', '2025-01-01 01:00:00',\n",
      "               '2025-01-01 02:00:00', '2025-01-01 03:00:00',\n",
      "               '2025-01-01 04:00:00'],\n",
      "              dtype='datetime64[ns]', name='snapshot', freq='h')\n",
      "INFO:pypsa.pf:Newton-Raphson solved in 5 iterations with error of 0.000000 in 0.022110 seconds\n",
      "INFO:pypsa.pf:Newton-Raphson solved in 5 iterations with error of 0.000000 in 0.022233 seconds\n",
      "INFO:pypsa.pf:Newton-Raphson solved in 5 iterations with error of 0.000000 in 0.021326 seconds\n",
      "INFO:pypsa.pf:Newton-Raphson solved in 5 iterations with error of 0.000000 in 0.020409 seconds\n",
      "INFO:pypsa.pf:Newton-Raphson solved in 5 iterations with error of 0.000000 in 0.021119 seconds\n"
     ]
    },
    {
     "name": "stdout",
     "output_type": "stream",
     "text": [
      "\n",
      "Bus Results:\n",
      "Bus                        Bus 1                                   Bus 2  \\\n",
      "                          P (MW)      Q (MVAr) V (pu) Angle (deg) P (MW)   \n",
      "snapshot                                                                   \n",
      "2025-01-01 00:00:00  1594.875625   -91774.4542   1.04         0.0  163.0   \n",
      "2025-01-01 01:00:00   1595.76829 -91773.689533   1.04         0.0  163.0   \n",
      "2025-01-01 02:00:00  1617.100015 -91765.236317   1.04         0.0  163.0   \n",
      "2025-01-01 03:00:00  1588.539186 -91776.424038   1.04         0.0  163.0   \n",
      "2025-01-01 04:00:00  1554.801133  -91790.10668   1.04         0.0  163.0   \n",
      "\n",
      "Bus                                                 Bus 3           ...  \\\n",
      "                    Q (MVAr)    V (pu) Angle (deg) P (MW) Q (MVAr)  ...   \n",
      "snapshot                                                            ...   \n",
      "2025-01-01 00:00:00      0.0   1.27161   -0.022457   85.0      0.0  ...   \n",
      "2025-01-01 01:00:00      0.0  1.271601   -0.022469   85.0      0.0  ...   \n",
      "2025-01-01 02:00:00      0.0  1.271582   -0.022502   85.0      0.0  ...   \n",
      "2025-01-01 03:00:00      0.0  1.271621    -0.02244   85.0      0.0  ...   \n",
      "2025-01-01 04:00:00      0.0  1.271653   -0.022388   85.0      0.0  ...   \n",
      "\n",
      "Bus                     Bus 7              Bus 8                     \\\n",
      "                       V (pu) Angle (deg) P (MW) Q (MVAr)    V (pu)   \n",
      "snapshot                                                              \n",
      "2025-01-01 00:00:00  1.283362   -0.024302    0.0      0.0   1.27161   \n",
      "2025-01-01 01:00:00   1.28335   -0.024317    0.0      0.0  1.271601   \n",
      "2025-01-01 02:00:00  1.283331   -0.024349    0.0      0.0  1.271582   \n",
      "2025-01-01 03:00:00  1.283377   -0.024278    0.0      0.0  1.271621   \n",
      "2025-01-01 04:00:00  1.283408   -0.024227    0.0      0.0  1.271653   \n",
      "\n",
      "Bus                              Bus 9                                 \n",
      "                    Angle (deg) P (MW) Q (MVAr)    V (pu) Angle (deg)  \n",
      "snapshot                                                               \n",
      "2025-01-01 00:00:00   -0.022576 -125.0    -50.0  1.198937   -0.009266  \n",
      "2025-01-01 01:00:00   -0.022588 -125.0    -50.0  1.198933   -0.009271  \n",
      "2025-01-01 02:00:00   -0.022621 -137.5    -55.0  1.198915   -0.009304  \n",
      "2025-01-01 03:00:00   -0.022559 -137.5    -55.0  1.198936   -0.009265  \n",
      "2025-01-01 04:00:00   -0.022507 -112.5    -45.0  1.198968   -0.009208  \n",
      "\n",
      "[5 rows x 36 columns]\n"
     ]
    }
   ],
   "source": [
    "# some issues with non converging results. probaly due to transformers (or possibly varying loads, Need to check more later... \n",
    "df=model_results(n,print_results=True) # run the power flow and store results in df. Print if print_results = True"
   ]
  },
  {
   "cell_type": "code",
   "execution_count": 44,
   "metadata": {},
   "outputs": [
    {
     "data": {
      "text/plain": [
       "count    6.000000e+00\n",
       "mean    -7.228014e-20\n",
       "std      9.207527e-03\n",
       "min     -1.146165e-02\n",
       "25%     -5.421409e-03\n",
       "50%     -5.647434e-04\n",
       "75%      3.367520e-03\n",
       "max      1.495316e-02\n",
       "dtype: float64"
      ]
     },
     "execution_count": 44,
     "metadata": {},
     "output_type": "execute_result"
    }
   ],
   "source": [
    "now = n.snapshots[0]\n",
    "\n",
    "angle_diff = pd.Series(n.buses_t.v_ang.loc[now,n.lines.bus0].values -\n",
    "                       n.buses_t.v_ang.loc[now,n.lines.bus1].values,\n",
    "                       index=n.lines.index)\n",
    "\n",
    "(angle_diff*180/np.pi).describe()"
   ]
  }
 ],
 "metadata": {
  "kernelspec": {
   "display_name": ".venv",
   "language": "python",
   "name": "python3"
  },
  "language_info": {
   "codemirror_mode": {
    "name": "ipython",
    "version": 3
   },
   "file_extension": ".py",
   "mimetype": "text/x-python",
   "name": "python",
   "nbconvert_exporter": "python",
   "pygments_lexer": "ipython3",
   "version": "3.12.8"
  }
 },
 "nbformat": 4,
 "nbformat_minor": 2
}
