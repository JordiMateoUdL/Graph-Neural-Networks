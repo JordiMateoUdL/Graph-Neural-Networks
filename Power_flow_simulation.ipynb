{
 "cells": [
  {
   "cell_type": "markdown",
   "metadata": {},
   "source": [
    "### 9-bus test system\n",
    " Definition of the initial 9-bus test system (originally presented in Paul M. Anderson; A. A. Fouad, \"Power System Control and Stability\" , IEEE, 2003, pp.i-xiv, doi: 10.1109/9780470545577.fmatter.)"
   ]
  },
  {
   "cell_type": "code",
   "execution_count": 1,
   "metadata": {},
   "outputs": [
    {
     "ename": "SyntaxError",
     "evalue": "invalid syntax (1124618535.py, line 3)",
     "output_type": "error",
     "traceback": [
      "\u001b[1;36m  Cell \u001b[1;32mIn[1], line 3\u001b[1;36m\u001b[0m\n\u001b[1;33m    uv add pypsa highspy pyscipopt jupyter matplotlib pandas numpy cartopy\u001b[0m\n\u001b[1;37m       ^\u001b[0m\n\u001b[1;31mSyntaxError\u001b[0m\u001b[1;31m:\u001b[0m invalid syntax\n"
     ]
    }
   ],
   "source": [
    "# first time this should be run in terminal: \n",
    "# Install dependencies from pyproject.toml\n",
    "\n",
    "#uv add highspy pyscipopt matplotlib pandas numpy cartopy\n",
    "#uv add jupyter\n",
    "#uv add pypsa\n",
    "\n",
    "# i had some issues as the local repo is in a onedrive and i could not add pypsa and jupyter directly. \n",
    "# what i needed to do was add all the other packages first and then clean cache and then add jupyter first and later add pypsa\n"
   ]
  }
 ],
 "metadata": {
  "kernelspec": {
   "display_name": "Python 3",
   "language": "python",
   "name": "python3"
  },
  "language_info": {
   "codemirror_mode": {
    "name": "ipython",
    "version": 3
   },
   "file_extension": ".py",
   "mimetype": "text/x-python",
   "name": "python",
   "nbconvert_exporter": "python",
   "pygments_lexer": "ipython3",
   "version": "3.11.9"
  }
 },
 "nbformat": 4,
 "nbformat_minor": 2
}
