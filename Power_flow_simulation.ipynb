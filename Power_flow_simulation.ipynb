{
 "cells": [
  {
   "cell_type": "markdown",
   "metadata": {},
   "source": [
    "### 9-bus test system\n",
    " Definition of the initial 9-bus test system (originally presented in Paul M. Anderson; A. A. Fouad, \"Power System Control and Stability\" , IEEE, 2003, pp.i-xiv, doi: 10.1109/9780470545577.fmatter.)"
   ]
  },
  {
   "cell_type": "markdown",
   "metadata": {},
   "source": [
    "### First time this should be run in terminal: \n",
    "Install libraries (if  you use uv add dependencies are added to pyproject.toml automatically, if you use uv pip install you need to add manually)"
   ]
  },
  {
   "cell_type": "code",
   "execution_count": null,
   "metadata": {
    "vscode": {
     "languageId": "shellscript"
    }
   },
   "outputs": [],
   "source": [
    "# Create venv\n",
    "uv venv\n",
    "# Activate it\n",
    ".\\.venv\\Scripts\\activate\n",
    "# Install packages in the venv\n",
    "uv add highspy pyscipopt matplotlib pandas numpy cartopy\n",
    "uv add jupyter\n",
    "uv add pypsa"
   ]
  },
  {
   "cell_type": "markdown",
   "metadata": {},
   "source": [
    "Comments:\n",
    "I ran this in Visual Studio code and had to make two changes to default set up:\n",
    "1) (rookie mistake): I had all the repos in a one-drive folder, which caused some issues, so i moved everything to a folder not in one-drive\n",
    "2) Visual studio code has powershell as default terminal (at least in my setup) which was not permitted to activate the vevn. Just changing to command prompt solved this..."
   ]
  },
  {
   "cell_type": "markdown",
   "metadata": {},
   "source": [
    "### Importing and defining models"
   ]
  },
  {
   "cell_type": "code",
   "execution_count": 11,
   "metadata": {},
   "outputs": [],
   "source": [
    "import pypsa\n",
    "import numpy as np\n",
    "import matplotlib.pyplot as plt\n",
    "import cartopy.crs as ccrs\n",
    "import pandas as pd\n"
   ]
  },
  {
   "cell_type": "code",
   "execution_count": 38,
   "metadata": {},
   "outputs": [],
   "source": [
    "#to plot the network this is called within the create_9_bus_network if plot=True\n",
    "#using first snapshot values \n",
    "def plot_network(n):\n",
    "    plt.figure(figsize=(12, 8))\n",
    "    # Plot base network\n",
    "    n.plot(\n",
    "        bus_sizes=0.01,          \n",
    "        line_widths=2,          \n",
    "        bus_colors='red',       \n",
    "        line_colors='blue',     \n",
    "        title=\"IEEE 9-bus System\",\n",
    "        margin=0.15,            \n",
    "        geomap=False           \n",
    "    )\n",
    "\n",
    "    # Add bus labels and values using first snapshot\n",
    "    for bus in n.buses.index:\n",
    "        x = n.buses.x[bus]\n",
    "        y = n.buses.y[bus]\n",
    "        p = n.buses_t.p.loc[n.snapshots[0], bus]  # Active power at first snapshot\n",
    "        q = n.buses_t.q.loc[n.snapshots[0], bus]  # Reactive power at first snapshot\n",
    "        plt.annotate(\n",
    "            f\"{bus}\\nP={p:.1f} MW\\nQ={q:.1f} MVAr\",\n",
    "            (x, y),\n",
    "            xytext=(10, 10),\n",
    "            textcoords='offset points'\n",
    "        )\n",
    "\n",
    "    # Add generator labels using first snapshot\n",
    "    for gen in n.generators.index:\n",
    "        bus = n.generators.bus[gen]\n",
    "        x = n.buses.x[bus]\n",
    "        y = n.buses.y[bus]\n",
    "        p_set = n.generators.p_set[gen][n.snapshots[0]]  # Generator setpoint at first snapshot\n",
    "        plt.annotate(\n",
    "            f\"G: P={n.generators.p_nom[gen]} MW\\nP_set={p_set:.1f} MW\",\n",
    "            (x, y),\n",
    "            xytext=(-10, 20),\n",
    "            textcoords='offset points',\n",
    "            color='green'\n",
    "        )\n",
    "\n",
    "    # Add load labels using first snapshot\n",
    "    for load in n.loads.index:\n",
    "        bus = n.loads.bus[load]\n",
    "        x = n.buses.x[bus]\n",
    "        y = n.buses.y[bus]\n",
    "        p_set = n.loads.p_set[load][n.snapshots[0]]  # Load setpoint at first snapshot\n",
    "        plt.annotate(\n",
    "            f\"L: P={p_set:.1f} MW\",\n",
    "            (x, y),\n",
    "            xytext=(10, -20),\n",
    "            textcoords='offset points',\n",
    "            color='brown'\n",
    "        )\n",
    "\n",
    "    plt.grid(True)\n",
    "    plt.axis('equal')\n",
    "    plt.show()\n"
   ]
  },
  {
   "cell_type": "code",
   "execution_count": 39,
   "metadata": {},
   "outputs": [],
   "source": [
    "# In the official version generators are connected to bus 1, 2 and 3. \n",
    "# This is used as default, but can be changed by specifying bus numbers for each gen.\n",
    "\n",
    "def create_9_bus_network(gen_bus1=1, gen_bus2=2, gen_bus3=3, plot=False):\n",
    "    network = pypsa.Network()\n",
    "    \n",
    "    # Define five snapshots\n",
    "    snapshots = pd.date_range(\"2025-02-12 00:00\", periods=5, freq=\"h\")\n",
    "    network.set_snapshots(snapshots)\n",
    "    \n",
    "    # Set base MVA\n",
    "    network.sbase = 100.0\n",
    "    \n",
    "    # IEEE 9-bus layout coordinates\n",
    "    bus_coordinates = {\n",
    "        1: (0, 0),      # Generator 1 (slack)\n",
    "        2: (4, 0),      # Generator 2\n",
    "        3: (2, 2),      # Generator 3\n",
    "        4: (1, -1),     # Load bus\n",
    "        5: (3, -1),     # Load bus\n",
    "        6: (2, 0.5),    # Load bus\n",
    "        7: (1, 1),      # Load bus\n",
    "        8: (3, 1),      # Load bus\n",
    "        9: (2, -1)      # Load bus\n",
    "    }\n",
    "    \n",
    "    # Add buses with official IEEE data   \n",
    "    for i in range(1, 10):\n",
    "        bus_data = {\n",
    "            \"x\": bus_coordinates[i][0],\n",
    "            \"y\": bus_coordinates[i][1],\n",
    "            \"v_nom\": 345 if i in [1,2,3] else 230,\n",
    "            \"v_mag_pu_set\": 1.04 if i == gen_bus1 else 1.025 if i in [gen_bus2,gen_bus3] else 1.0,\n",
    "            \"v_mag_pu_min\": 0.9,\n",
    "            \"v_mag_pu_max\": 1.1,\n",
    "            \"type\": \"Slack\" if i == gen_bus1 else \"PV\" if i in [gen_bus2,gen_bus3] else \"PQ\"\n",
    "            }\n",
    "        network.add(\"Bus\", f\"Bus {i}\", **bus_data)\n",
    "        \n",
    "        # Add loads with oscillating patterns\n",
    "        if i in [5, 7, 9]:\n",
    "            # Create base loads to generate varying load patterns\n",
    "            base_p = {5: 90, 7: 100, 9: 125}[i]\n",
    "            base_q = {5: 30, 7: 35, 9: 50}[i]\n",
    "            variation = 0.1  # 10% variation\n",
    "            #oscilation pattern based on node number\n",
    "            patterns = {5:np.array([1,0,1,0,-1]),\n",
    "                        7:np.array([0,1,1,-1,-1]),\n",
    "                        9: np.array([0,0,1,1,-1])}\n",
    "            # load is set as base plus/minus a variation of \n",
    "            load_p_set = base_p * (1 + variation * patterns[i])  # Oscillating pattern\n",
    "            load_q_set = base_q * (1 + variation * patterns[i])  # Oscillating pattern\n",
    "            \n",
    "            network.add(\"Load\", f\"Load {i}\", \n",
    "                bus=f\"Bus {i}\",\n",
    "                p_set=pd.Series(load_p_set, index=snapshots),\n",
    "                q_set=pd.Series(load_q_set, index=snapshots))\n",
    "    \n",
    "    ## Add Generators with official IEEE data\n",
    "    gen_data = [\n",
    "    {\"bus\": f\"Bus {gen_bus1}\", \"p_nom\": 247.5, \"p_min_pu\": 10/247.5, \"p_set\": pd.Series([0]*5, index=snapshots)},\n",
    "    {\"bus\": f\"Bus {gen_bus2}\", \"p_nom\": 192.0, \"p_min_pu\": 10/192.0, \"p_set\": pd.Series([163]*5, index=snapshots)},\n",
    "    {\"bus\": f\"Bus {gen_bus3}\", \"p_nom\": 128.0, \"p_min_pu\": 10/128.0, \"p_set\": pd.Series([85]*5, index=snapshots)}\n",
    "    ]\n",
    "    \n",
    "    for i, gen in enumerate(gen_data):\n",
    "        network.add(\"Generator\", f\"Gen {i+1}\", **gen)\n",
    "    \n",
    "    ## Add Lines and Transformers with official IEEE data\n",
    "    branch_data = [\n",
    "        # [from_bus, to_bus, r, x, b, s_nom, tap_ratio]\n",
    "        [1, 4, 0.0000, 0.0576, 0.0000, 250, 345/230],  # Transformer 1 (345/230 kV)\n",
    "        [4, 5, 0.0170, 0.0920, 0.1580, 250, 1.0],      # Line\n",
    "        [5, 6, 0.0390, 0.1700, 0.3580, 150, 1.0],      # Line\n",
    "        [3, 6, 0.0000, 0.0586, 0.0000, 300, 345/230],  # Transformer 2 (345/230 kV)\n",
    "        [6, 7, 0.0119, 0.1008, 0.2090, 150, 1.0],      # Line\n",
    "        [7, 8, 0.0085, 0.0720, 0.1490, 250, 1.0],      # Line\n",
    "        [8, 2, 0.0000, 0.0625, 0.0000, 250, 345/230],  # Transformer 3 (345/230 kV)\n",
    "        [8, 9, 0.0320, 0.1610, 0.3060, 250, 1.0],      # Line\n",
    "        [9, 4, 0.0100, 0.0850, 0.1760, 250, 1.0]       # Line\n",
    "        ]\n",
    "    \n",
    "    for i, branch in enumerate(branch_data):\n",
    "        f_bus, t_bus, r, x, b, rate, tap = branch\n",
    "        if tap != 1.0:  # Tap not equal to 1 indicates a transformer\n",
    "            network.add(\"Transformer\", f\"Transformer {i+1}\",\n",
    "                    bus0=f\"Bus {f_bus}\",\n",
    "                    bus1=f\"Bus {t_bus}\",\n",
    "                    r=r,\n",
    "                    x=x,\n",
    "                    b=b,\n",
    "                    s_nom=rate,\n",
    "                    tap_ratio=tap)\n",
    "        else:  # Tap equal to 1 indicates normal line (no transformer)\n",
    "            network.add(\"Line\", f\"Line {i+1}\",\n",
    "                    bus0=f\"Bus {f_bus}\",\n",
    "                    bus1=f\"Bus {t_bus}\",\n",
    "                    r=r,\n",
    "                    x=x,\n",
    "                    b=b,\n",
    "                    s_nom=rate)\n",
    "    \n",
    "    if plot:\n",
    "        network.plot()\n",
    "        \n",
    "    return network"
   ]
  },
  {
   "cell_type": "markdown",
   "metadata": {},
   "source": [
    "### Running power flow simulations\n"
   ]
  },
  {
   "cell_type": "code",
   "execution_count": 40,
   "metadata": {},
   "outputs": [
    {
     "name": "stderr",
     "output_type": "stream",
     "text": [
      "c:\\git_repos\\Graph Neural Networks\\Graph-Neural-Networks\\.venv\\Lib\\site-packages\\cartopy\\mpl\\feature_artist.py:144: UserWarning: facecolor will have no effect as it has been defined as \"never\".\n",
      "  warnings.warn('facecolor will have no effect as it has been '\n"
     ]
    },
    {
     "data": {
      "image/png": "[encoded data removed]",
      "text/plain": [
       "<Figure size 640x480 with 1 Axes>"
      ]
     },
     "metadata": {},
     "output_type": "display_data"
    }
   ],
   "source": [
    "n = create_9_bus_network(plot=True) # create the network with some parameters"
   ]
  },
  {
   "cell_type": "code",
   "execution_count": 41,
   "metadata": {},
   "outputs": [],
   "source": [
    "def model_results(n, print_results=False):\n",
    "    n.pf()\n",
    "    # Create DataFrame with bus results for all snapshots\n",
    "    results_df = pd.DataFrame(\n",
    "        index=n.snapshots,\n",
    "        columns=pd.MultiIndex.from_product([\n",
    "            n.buses.index,\n",
    "            ['P (MW)', 'Q (MVAr)', 'V (pu)', 'Angle (deg)']\n",
    "        ])\n",
    "    )\n",
    "\n",
    "    # Fill results for each snapshot\n",
    "    for t in n.snapshots:\n",
    "        for bus in n.buses.index:\n",
    "            results_df.loc[t, (bus, 'P (MW)')] = n.buses_t.p.loc[t, bus]\n",
    "            results_df.loc[t, (bus, 'Q (MVAr)')] = n.buses_t.q.loc[t, bus]\n",
    "            results_df.loc[t, (bus, 'V (pu)')] = n.buses_t.v_mag_pu.loc[t, bus]\n",
    "            results_df.loc[t, (bus, 'Angle (deg)')] = n.buses_t.v_ang.loc[t, bus]\n",
    "\n",
    "    if print_results:\n",
    "        print(\"\\nBus Results:\") \n",
    "        print(results_df)\n",
    "\n",
    "    return results_df\n"
   ]
  },
  {
   "cell_type": "code",
   "execution_count": 42,
   "metadata": {},
   "outputs": [
    {
     "name": "stderr",
     "output_type": "stream",
     "text": [
      "INFO:pypsa.pf:Performing non-linear load-flow on AC sub-network SubNetwork 0 for snapshots DatetimeIndex(['2025-02-12 00:00:00', '2025-02-12 01:00:00',\n",
      "               '2025-02-12 02:00:00', '2025-02-12 03:00:00',\n",
      "               '2025-02-12 04:00:00'],\n",
      "              dtype='datetime64[ns]', name='snapshot', freq='h')\n",
      "WARNING:pypsa.pf:Warning, we didn't reach the required tolerance within 100 iterations, error is at 498486191209591954106743999984304128.000000. See the section \"Troubleshooting\" in the documentation for tips to fix this. \n",
      "INFO:pypsa.pf:Newton-Raphson solved in 100 iterations with error of 498486191209591954106743999984304128.000000 in 0.463147 seconds\n",
      "WARNING:pypsa.pf:Warning, we didn't reach the required tolerance within 100 iterations, error is at 8426774594530476231119465575679524864.000000. See the section \"Troubleshooting\" in the documentation for tips to fix this. \n",
      "INFO:pypsa.pf:Newton-Raphson solved in 100 iterations with error of 8426774594530476231119465575679524864.000000 in 0.487974 seconds\n",
      "WARNING:pypsa.pf:Warning, we didn't reach the required tolerance within 100 iterations, error is at 5533019506938357928258879164610772992.000000. See the section \"Troubleshooting\" in the documentation for tips to fix this. \n",
      "INFO:pypsa.pf:Newton-Raphson solved in 100 iterations with error of 5533019506938357928258879164610772992.000000 in 0.502789 seconds\n",
      "WARNING:pypsa.pf:Warning, we didn't reach the required tolerance within 100 iterations, error is at 884668163812888804878368093899849728.000000. See the section \"Troubleshooting\" in the documentation for tips to fix this. \n",
      "INFO:pypsa.pf:Newton-Raphson solved in 100 iterations with error of 884668163812888804878368093899849728.000000 in 0.605802 seconds\n",
      "WARNING:pypsa.pf:Warning, we didn't reach the required tolerance within 100 iterations, error is at 65970432336695173072523459279127052288.000000. See the section \"Troubleshooting\" in the documentation for tips to fix this. \n",
      "INFO:pypsa.pf:Newton-Raphson solved in 100 iterations with error of 65970432336695173072523459279127052288.000000 in 0.575122 seconds\n"
     ]
    },
    {
     "name": "stdout",
     "output_type": "stream",
     "text": [
      "\n",
      "Bus Results:\n",
      "Bus                                  Bus 1                                \\\n",
      "                                    P (MW)               Q (MVAr) V (pu)   \n",
      "snapshot                                                                   \n",
      "2025-02-12 00:00:00 -1528140545524240128.0  -966487306211561984.0   1.04   \n",
      "2025-02-12 01:00:00                   -0.0            2086.419753   1.04   \n",
      "2025-02-12 02:00:00   -76109737782195616.0    -1667360739900021.5   1.04   \n",
      "2025-02-12 03:00:00   689728316535546496.0 -2008960423001921536.0   1.04   \n",
      "2025-02-12 04:00:00  -200941010574153792.0   303143561385494016.0   1.04   \n",
      "\n",
      "Bus                              Bus 2                                 \\\n",
      "                    Angle (deg) P (MW) Q (MVAr)                V (pu)   \n",
      "snapshot                                                                \n",
      "2025-02-12 00:00:00         0.0  163.0      0.0   -4439225291345198.0   \n",
      "2025-02-12 01:00:00         0.0  163.0      0.0                   0.0   \n",
      "2025-02-12 02:00:00         0.0  163.0      0.0   -4773631777686655.0   \n",
      "2025-02-12 03:00:00         0.0  163.0      0.0 -502805489509529.9375   \n",
      "2025-02-12 04:00:00         0.0  163.0      0.0   -4116920944014712.5   \n",
      "\n",
      "Bus                               Bus 3           ...                 Bus 7  \\\n",
      "                     Angle (deg) P (MW) Q (MVAr)  ...                V (pu)   \n",
      "snapshot                                          ...                         \n",
      "2025-02-12 00:00:00  4330.604733   85.0      0.0  ...                   0.0   \n",
      "2025-02-12 01:00:00  14755.43143   85.0      0.0  ...   -2646351635895012.5   \n",
      "2025-02-12 02:00:00 -1019.546164   85.0      0.0  ...   -2914312815380203.0   \n",
      "2025-02-12 03:00:00  -487.667938   85.0      0.0  ... -6332417560816.419922   \n",
      "2025-02-12 04:00:00  -219.323148   85.0      0.0  ...   -7027731093867590.0   \n",
      "\n",
      "Bus                                Bus 8                                  \\\n",
      "                      Angle (deg) P (MW) Q (MVAr)                 V (pu)   \n",
      "snapshot                                                                   \n",
      "2025-02-12 00:00:00    -35.772296    0.0      0.0 -13357010421716.433594   \n",
      "2025-02-12 01:00:00  14812.188177    0.0      0.0   -1181508350964183.25   \n",
      "2025-02-12 02:00:00   -976.665496    0.0      0.0    -3561659936342468.5   \n",
      "2025-02-12 03:00:00     106.13661    0.0      0.0     -196061453291652.0   \n",
      "2025-02-12 04:00:00    -148.16593    0.0      0.0    -2482735112589703.5   \n",
      "\n",
      "Bus                                Bus 9                                \\\n",
      "                      Angle (deg) P (MW) Q (MVAr)               V (pu)   \n",
      "snapshot                                                                 \n",
      "2025-02-12 00:00:00    -25.230893 -125.0    -50.0   -960160714292236.0   \n",
      "2025-02-12 01:00:00  14851.250006 -125.0    -50.0                  0.0   \n",
      "2025-02-12 02:00:00   -976.138239 -137.5    -55.0  -1325514987900418.0   \n",
      "2025-02-12 03:00:00    112.181546 -137.5    -55.0 -1202286963629631.75   \n",
      "2025-02-12 04:00:00   -176.771006 -112.5    -45.0 -1154059116581297.75   \n",
      "\n",
      "Bus                               \n",
      "                     Angle (deg)  \n",
      "snapshot                          \n",
      "2025-02-12 00:00:00     -20.6528  \n",
      "2025-02-12 01:00:00  14865.96388  \n",
      "2025-02-12 02:00:00  -976.781945  \n",
      "2025-02-12 03:00:00   110.106497  \n",
      "2025-02-12 04:00:00   -98.944307  \n",
      "\n",
      "[5 rows x 36 columns]\n"
     ]
    }
   ],
   "source": [
    "df=model_results(n,print_results=True) # run the power flow and store results in df. Print if print_results = True"
   ]
  }
 ],
 "metadata": {
  "kernelspec": {
   "display_name": ".venv",
   "language": "python",
   "name": "python3"
  },
  "language_info": {
   "codemirror_mode": {
    "name": "ipython",
    "version": 3
   },
   "file_extension": ".py",
   "mimetype": "text/x-python",
   "name": "python",
   "nbconvert_exporter": "python",
   "pygments_lexer": "ipython3",
   "version": "3.12.8"
  }
 },
 "nbformat": 4,
 "nbformat_minor": 2
}
