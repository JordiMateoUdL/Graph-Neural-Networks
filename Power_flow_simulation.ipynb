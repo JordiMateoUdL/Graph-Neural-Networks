{
 "cells": [
  {
   "cell_type": "markdown",
   "metadata": {},
   "source": [
    "### 9-bus test system\n",
    " Definition of the initial 9-bus test system (originally presented in Paul M. Anderson; A. A. Fouad, \"Power System Control and Stability\" , IEEE, 2003, pp.i-xiv, doi: 10.1109/9780470545577.fmatter.)"
   ]
  },
  {
   "cell_type": "markdown",
   "metadata": {},
   "source": [
    "### First time this should be run in terminal: \n",
    "Install libraries (if  you use uv add dependencies are added to pyproject.toml automatically, if you use uv pip install you need to add manually)"
   ]
  },
  {
   "cell_type": "code",
   "execution_count": null,
   "metadata": {
    "vscode": {
     "languageId": "shellscript"
    }
   },
   "outputs": [],
   "source": [
    "# Create venv\n",
    "uv venv\n",
    "# Activate it\n",
    ".\\.venv\\Scripts\\activate\n",
    "# Install packages in the venv\n",
    "uv add highspy pyscipopt matplotlib pandas numpy cartopy\n",
    "uv add jupyter\n",
    "uv add pypsa"
   ]
  },
  {
   "cell_type": "markdown",
   "metadata": {},
   "source": [
    "Comments:\n",
    "I had some issues as the local repo is in a onedrive and i could not add pypsa and jupyter directly. \n",
    "what i needed to do was add all the other packages first and then clean cache and then add jupyter first and later add pypsa"
   ]
  },
  {
   "cell_type": "markdown",
   "metadata": {},
   "source": [
    "### Importing and defining models"
   ]
  },
  {
   "cell_type": "code",
   "execution_count": 12,
   "metadata": {},
   "outputs": [],
   "source": [
    "import pypsa\n",
    "import numpy as np\n",
    "import matplotlib.pyplot as plt\n",
    "import cartopy.crs as ccrs\n"
   ]
  },
  {
   "cell_type": "code",
   "execution_count": 13,
   "metadata": {},
   "outputs": [],
   "source": [
    "def create_9_bus_network():\n",
    "    # Create network\n",
    "    network = pypsa.Network()\n",
    "    network.set_snapshots(range(1))\n",
    "    #overwrite=overwrite\n",
    "    # Set base MVA\n",
    "    network.sbase = 100.0\n",
    "    \n",
    "    # Traditional IEEE 9-bus layout coordinates\n",
    "    bus_coordinates = {\n",
    "        1: (0, 0),      # Generator 1 (slack)\n",
    "        2: (4, 0),      # Generator 2\n",
    "        3: (2, 2),      # Generator 3\n",
    "        4: (1, -1),     # Load bus\n",
    "        5: (3, -1),     # Load bus\n",
    "        6: (2, 0.5),    # Load bus\n",
    "        7: (1, 1),      # Load bus\n",
    "        8: (3, 1),      # Load bus\n",
    "        9: (2, -1)      # Load bus\n",
    "    }\n",
    "    \n",
    "    # Add buses with coordinates    \n",
    "    for i in range(1, 10):\n",
    "        bus_data = {\n",
    "            \"x\": bus_coordinates[i][0],\n",
    "            \"y\": bus_coordinates[i][1],\n",
    "            \"v_nom\": 345,\n",
    "            \"v_mag_pu_set\": 1.0,\n",
    "            \"v_mag_pu_min\": 0.9,\n",
    "            \"v_mag_pu_max\": 1.1,\n",
    "            \"type\": \"Slack\" if i == 1 else \"PV\" if i in [2,3] else \"PQ\"\n",
    "        }\n",
    "        network.add(\"Bus\", f\"Bus {i}\", **bus_data)\n",
    "        \n",
    "        # Add loads directly after creating each bus\n",
    "        if i in [5, 7, 9]:\n",
    "            load_p = {5: 90, 7: 100, 9: 125}[i]\n",
    "            load_q = {5: 30, 7: 35, 9: 50}[i]\n",
    "            network.add(\"Load\", f\"Load {i}\", \n",
    "                    bus=f\"Bus {i}\",\n",
    "                    p_set=load_p,\n",
    "                    q_set=load_q)\n",
    "        \n",
    "    ## Add Generators\n",
    "    gen_data = [\n",
    "        {\"bus\": \"Bus 1\", \"p_nom\": 250, \"p_min\": 10, \"p_set\": 0, \"q_min\": -300, \"q_max\": 300},\n",
    "        {\"bus\": \"Bus 2\", \"p_nom\": 300, \"p_min\": 10, \"p_set\": 163, \"q_min\": -300, \"q_max\": 300},\n",
    "        {\"bus\": \"Bus 3\", \"p_nom\": 270, \"p_min\": 10, \"p_set\": 85, \"q_min\": -300, \"q_max\": 300}\n",
    "    ]\n",
    "    \n",
    "    for i, gen in enumerate(gen_data):\n",
    "        network.add(\"Generator\", f\"Gen {i+1}\", **gen)\n",
    "    \n",
    "    ## Add Lines\n",
    "    branch_data = [\n",
    "        [1, 4, 0, 0.0576, 0, 250],\n",
    "        [4, 5, 0.017, 0.092, 0.158, 250],\n",
    "        [5, 6, 0.039, 0.17, 0.358, 150],\n",
    "        [3, 6, 0, 0.0586, 0, 300],\n",
    "        [6, 7, 0.0119, 0.1008, 0.209, 150],\n",
    "        [7, 8, 0.0085, 0.072, 0.149, 250],\n",
    "        [8, 2, 0, 0.0625, 0, 250],\n",
    "        [8, 9, 0.032, 0.161, 0.306, 250],\n",
    "        [9, 4, 0.01, 0.085, 0.176, 250]\n",
    "    ]\n",
    "    \n",
    "    for i, branch in enumerate(branch_data):\n",
    "        f_bus, t_bus, r, x, b, rate = branch\n",
    "        network.add(\"Line\", f\"Line {i+1}\",\n",
    "                   bus0=f\"Bus {f_bus}\",\n",
    "                   bus1=f\"Bus {t_bus}\",\n",
    "                   r=r,\n",
    "                   x=x,\n",
    "                   b=b,\n",
    "                   s_nom=rate)\n",
    "    \n",
    "    return network"
   ]
  },
  {
   "cell_type": "markdown",
   "metadata": {},
   "source": [
    "### Running power flow simulations\n"
   ]
  },
  {
   "cell_type": "code",
   "execution_count": 14,
   "metadata": {},
   "outputs": [
    {
     "name": "stderr",
     "output_type": "stream",
     "text": [
      "WARNING:pypsa.components:Generator has no attribute p_min, ignoring this passed value.\n",
      "WARNING:pypsa.components:Generator has no attribute q_min, ignoring this passed value.\n",
      "WARNING:pypsa.components:Generator has no attribute q_max, ignoring this passed value.\n",
      "WARNING:pypsa.components:Generator has no attribute p_min, ignoring this passed value.\n",
      "WARNING:pypsa.components:Generator has no attribute q_min, ignoring this passed value.\n",
      "WARNING:pypsa.components:Generator has no attribute q_max, ignoring this passed value.\n",
      "WARNING:pypsa.components:Generator has no attribute p_min, ignoring this passed value.\n",
      "WARNING:pypsa.components:Generator has no attribute q_min, ignoring this passed value.\n",
      "WARNING:pypsa.components:Generator has no attribute q_max, ignoring this passed value.\n"
     ]
    }
   ],
   "source": [
    "n = create_9_bus_network() # create the network with some parameters"
   ]
  },
  {
   "cell_type": "code",
   "execution_count": 11,
   "metadata": {},
   "outputs": [
    {
     "ename": "TypeError",
     "evalue": "plot() got an unexpected keyword argument 'bus_labels'",
     "output_type": "error",
     "traceback": [
      "\u001b[1;31m---------------------------------------------------------------------------\u001b[0m",
      "\u001b[1;31mTypeError\u001b[0m                                 Traceback (most recent call last)",
      "Cell \u001b[1;32mIn[11], line 5\u001b[0m\n\u001b[0;32m      2\u001b[0m plt\u001b[38;5;241m.\u001b[39mfigure(figsize\u001b[38;5;241m=\u001b[39m(\u001b[38;5;241m12\u001b[39m, \u001b[38;5;241m8\u001b[39m))\n\u001b[0;32m      4\u001b[0m \u001b[38;5;66;03m# Plot network with enhanced details\u001b[39;00m\n\u001b[1;32m----> 5\u001b[0m \u001b[43mn\u001b[49m\u001b[38;5;241;43m.\u001b[39;49m\u001b[43mplot\u001b[49m\u001b[43m(\u001b[49m\n\u001b[0;32m      6\u001b[0m \u001b[43m    \u001b[49m\u001b[43mbus_sizes\u001b[49m\u001b[38;5;241;43m=\u001b[39;49m\u001b[38;5;241;43m0.3\u001b[39;49m\u001b[43m,\u001b[49m\u001b[43m          \u001b[49m\u001b[38;5;66;43;03m# Size of bus markers\u001b[39;49;00m\n\u001b[0;32m      7\u001b[0m \u001b[43m    \u001b[49m\u001b[43mline_widths\u001b[49m\u001b[38;5;241;43m=\u001b[39;49m\u001b[38;5;241;43m2\u001b[39;49m\u001b[43m,\u001b[49m\u001b[43m          \u001b[49m\u001b[38;5;66;43;03m# Width of transmission lines\u001b[39;49;00m\n\u001b[0;32m      8\u001b[0m \u001b[43m    \u001b[49m\u001b[43mbus_colors\u001b[49m\u001b[38;5;241;43m=\u001b[39;49m\u001b[38;5;124;43m'\u001b[39;49m\u001b[38;5;124;43mred\u001b[39;49m\u001b[38;5;124;43m'\u001b[39;49m\u001b[43m,\u001b[49m\u001b[43m       \u001b[49m\u001b[38;5;66;43;03m# Change bus color\u001b[39;49;00m\n\u001b[0;32m      9\u001b[0m \u001b[43m    \u001b[49m\u001b[43mline_colors\u001b[49m\u001b[38;5;241;43m=\u001b[39;49m\u001b[38;5;124;43m'\u001b[39;49m\u001b[38;5;124;43mblue\u001b[39;49m\u001b[38;5;124;43m'\u001b[39;49m\u001b[43m,\u001b[49m\u001b[43m     \u001b[49m\u001b[38;5;66;43;03m# Line color\u001b[39;49;00m\n\u001b[0;32m     10\u001b[0m \u001b[43m    \u001b[49m\u001b[43mtitle\u001b[49m\u001b[38;5;241;43m=\u001b[39;49m\u001b[38;5;124;43m\"\u001b[39;49m\u001b[38;5;124;43mIEEE 9-bus System\u001b[39;49m\u001b[38;5;124;43m\"\u001b[39;49m\u001b[43m,\u001b[49m\n\u001b[0;32m     11\u001b[0m \u001b[43m    \u001b[49m\u001b[43mmargin\u001b[49m\u001b[38;5;241;43m=\u001b[39;49m\u001b[38;5;241;43m0.15\u001b[39;49m\u001b[43m,\u001b[49m\u001b[43m            \u001b[49m\u001b[38;5;66;43;03m# Margin around the plot\u001b[39;49;00m\n\u001b[0;32m     12\u001b[0m \u001b[43m    \u001b[49m\u001b[43mbus_labels\u001b[49m\u001b[38;5;241;43m=\u001b[39;49m\u001b[38;5;28;43;01mTrue\u001b[39;49;00m\u001b[43m,\u001b[49m\u001b[43m        \u001b[49m\u001b[38;5;66;43;03m# Show bus labels\u001b[39;49;00m\n\u001b[0;32m     13\u001b[0m \u001b[43m    \u001b[49m\u001b[43mgeomap\u001b[49m\u001b[38;5;241;43m=\u001b[39;49m\u001b[38;5;28;43;01mFalse\u001b[39;49;00m\u001b[43m           \u001b[49m\u001b[38;5;66;43;03m# Keep geomap off since we're using local coordinates\u001b[39;49;00m\n\u001b[0;32m     14\u001b[0m \u001b[43m)\u001b[49m\n\u001b[0;32m     16\u001b[0m \u001b[38;5;66;03m# Add grid and labels\u001b[39;00m\n\u001b[0;32m     17\u001b[0m plt\u001b[38;5;241m.\u001b[39mgrid(\u001b[38;5;28;01mTrue\u001b[39;00m)\n",
      "\u001b[1;31mTypeError\u001b[0m: plot() got an unexpected keyword argument 'bus_labels'"
     ]
    },
    {
     "data": {
      "text/plain": [
       "<Figure size 1200x800 with 0 Axes>"
      ]
     },
     "metadata": {},
     "output_type": "display_data"
    }
   ],
   "source": [
    "# Create figure with larger size\n",
    "plt.figure(figsize=(12, 8))\n",
    "\n",
    "# Plot network with enhanced details\n",
    "n.plot(\n",
    "    bus_sizes=0.3,          # Size of bus markers\n",
    "    line_widths=2,          # Width of transmission lines\n",
    "    bus_colors='red',       # Change bus color\n",
    "    line_colors='blue',     # Line color\n",
    "    title=\"IEEE 9-bus System\",\n",
    "    margin=0.15,            # Margin around the plot\n",
    "    bus_labels=True,        # Show bus labels\n",
    "    geomap=False           # Keep geomap off since we're using local coordinates\n",
    ")\n",
    "\n",
    "# Add grid and labels\n",
    "plt.grid(True)\n",
    "plt.xlabel('X Coordinate')\n",
    "plt.ylabel('Y Coordinate')\n",
    "\n",
    "# Ensure proper aspect ratio\n",
    "plt.axis('equal')\n",
    "\n",
    "# Add legend\n",
    "plt.legend(['Buses', 'Lines'], loc='upper right')\n",
    "\n",
    "plt.show()"
   ]
  },
  {
   "cell_type": "code",
   "execution_count": null,
   "metadata": {},
   "outputs": [],
   "source": [
    "network.pf() # run the power flow"
   ]
  },
  {
   "cell_type": "code",
   "execution_count": 17,
   "metadata": {},
   "outputs": [
    {
     "data": {
      "image/png": "[encoded data removed]",
      "text/plain": [
       "<Figure size 1000x1000 with 1 Axes>"
      ]
     },
     "metadata": {},
     "output_type": "display_data"
    }
   ],
   "source": [
    "def create_test_network():\n",
    "    # Create network\n",
    "    network = pypsa.Network()\n",
    "    \n",
    "    # Set coordinates for buses (example layout)\n",
    "    bus_coordinates = {\n",
    "        1: (0, 0),      # Bus 1 at origin\n",
    "        2: (20, 20),      # Bus 2 \n",
    "        3: (10, 20),     # Bus 3\n",
    "        4: (0, 10),     # Bus 4\n",
    "        5: (10, 10),     # Bus 5\n",
    "        6: (15, 10),     # Bus 6\n",
    "        7: (0, 15),    # Bus 7\n",
    "        8: (20, 15),      # Bus 8\n",
    "        9: (15, 20)     # Bus 9\n",
    "    }\n",
    "    \n",
    "    # Add buses with coordinates\n",
    "    for i in range(1, 10):\n",
    "        x, y = bus_coordinates[i]\n",
    "        network.add(\"Bus\", f\"Bus {i}\",\n",
    "                   x=x,\n",
    "                   y=y,\n",
    "                   v_nom=345)\n",
    "    \n",
    "        ## Add Lines\n",
    "    branch_data = [\n",
    "        [1, 4, 0, 0.0576, 0, 250],\n",
    "        [4, 5, 0.017, 0.092, 0.158, 250],\n",
    "        [5, 6, 0.039, 0.17, 0.358, 150],\n",
    "        [3, 6, 0, 0.0586, 0, 300],\n",
    "        [6, 7, 0.0119, 0.1008, 0.209, 150],\n",
    "        [7, 8, 0.0085, 0.072, 0.149, 250],\n",
    "        [8, 2, 0, 0.0625, 0, 250],\n",
    "        [8, 9, 0.032, 0.161, 0.306, 250],\n",
    "        [9, 4, 0.01, 0.085, 0.176, 250]\n",
    "    ]\n",
    "    \n",
    "    for i, branch in enumerate(branch_data):\n",
    "        f_bus, t_bus, r, x, b, rate = branch\n",
    "        network.add(\"Line\", f\"Line {i+1}\",\n",
    "                   bus0=f\"Bus {f_bus}\",\n",
    "                   bus1=f\"Bus {t_bus}\",\n",
    "                   r=r,\n",
    "                   x=x,\n",
    "                   b=b,\n",
    "                   s_nom=rate)\n",
    "    \n",
    "    return network\n",
    "\n",
    "# Create and plot network\n",
    "network = create_test_network()\n",
    "\n",
    "# Plot with more detailed settings\n",
    "plt.figure(figsize=(10, 10))\n",
    "network.plot(\n",
    "    bus_sizes=0.3,\n",
    "    line_widths=2,\n",
    "    bus_colors='orange',\n",
    "    line_colors='blue',\n",
    "    title=\"IEEE 9-bus System\",\n",
    "    margin=0.15,\n",
    "    geomap=False\n",
    ")\n",
    "plt.grid(True)\n",
    "plt.axis('equal')\n",
    "plt.show()"
   ]
  }
 ],
 "metadata": {
  "kernelspec": {
   "display_name": ".venv",
   "language": "python",
   "name": "python3"
  },
  "language_info": {
   "codemirror_mode": {
    "name": "ipython",
    "version": 3
   },
   "file_extension": ".py",
   "mimetype": "text/x-python",
   "name": "python",
   "nbconvert_exporter": "python",
   "pygments_lexer": "ipython3",
   "version": "3.12.8"
  }
 },
 "nbformat": 4,
 "nbformat_minor": 2
}
